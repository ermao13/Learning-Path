{
 "cells": [
  {
   "cell_type": "code",
   "execution_count": 5,
   "metadata": {},
   "outputs": [],
   "source": [
    "#encoding=utf-8\n",
    "#author: walker\n",
    "#date: 2014-05-15\n",
    "#function: 更改图片尺寸大小\n",
    " \n",
    "from PIL import Image\n",
    "'''\n",
    "filein: 输入图片\n",
    "fileout: 输出图片\n",
    "width: 输出图片宽度\n",
    "height:输出图片高度\n",
    "type:输出图片类型（png, gif, jpeg...）\n",
    "'''\n",
    "def ResizeImage(filein, fileout, width, height, type):\n",
    "  img = Image.open(filein)\n",
    "  out = img.resize((width, height),Image.ANTIALIAS) #resize image with high-quality\n",
    "  out.save(fileout, type)\n"
   ]
  },
  {
   "cell_type": "code",
   "execution_count": 12,
   "metadata": {},
   "outputs": [],
   "source": [
    "'''\n",
    "转换其他地址的文件\n",
    "'''\n",
    "if __name__ == \"__main__\":\n",
    "  filein = r'E:/Machine Learning/photos/rescaling/Hydrangeas.jpg'\n",
    "#r'表示后续为原始字符串常量，避免引用路径时转义（如\\t）\n",
    "  fileout = r'E:\\Machine Learning\\photos\\rescaling\\testout.png'\n",
    "  width = 600\n",
    "  height = 600\n",
    "  type = 'png'\n",
    "  ResizeImage(filein, fileout, width, height, type)"
   ]
  },
  {
   "cell_type": "code",
   "execution_count": 11,
   "metadata": {},
   "outputs": [],
   "source": [
    "'''\n",
    "转换py文件所在文件夹的文件\n",
    "'''\n",
    "if __name__ == \"__main__\":\n",
    "  filein = r'0.jpg'\n",
    "  fileout = r'testout.png'\n",
    "  width = 700\n",
    "  height = 700\n",
    "  type = 'png'\n",
    "  ResizeImage(filein, fileout, width, height, type)"
   ]
  },
  {
   "cell_type": "code",
   "execution_count": null,
   "metadata": {},
   "outputs": [],
   "source": []
  }
 ],
 "metadata": {
  "kernelspec": {
   "display_name": "Python 3",
   "language": "python",
   "name": "python3"
  },
  "language_info": {
   "codemirror_mode": {
    "name": "ipython",
    "version": 3
   },
   "file_extension": ".py",
   "mimetype": "text/x-python",
   "name": "python",
   "nbconvert_exporter": "python",
   "pygments_lexer": "ipython3",
   "version": "3.7.1"
  }
 },
 "nbformat": 4,
 "nbformat_minor": 2
}
