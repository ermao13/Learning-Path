{
 "cells": [
  {
   "cell_type": "code",
   "execution_count": 2,
   "metadata": {},
   "outputs": [
    {
     "name": "stderr",
     "output_type": "stream",
     "text": [
      "Using TensorFlow backend.\n"
     ]
    }
   ],
   "source": [
    "from keras.preprocessing.image import ImageDataGenerator, array_to_img, img_to_array, load_img\n",
    "import numpy as np\n",
    "datagen = ImageDataGenerator(\n",
    "        rotation_range=40,\n",
    "        width_shift_range=0.2,\n",
    "        height_shift_range=0.2,\n",
    "        shear_range=0.2,\n",
    "        zoom_range=0.2,\n",
    "        horizontal_flip=True,\n",
    "        fill_mode='nearest')"
   ]
  },
  {
   "cell_type": "code",
   "execution_count": 45,
   "metadata": {},
   "outputs": [
    {
     "data": {
      "text/plain": [
       "'\\n当l为lits时，将输入转为矩阵格式;此时np.array与np.asarray功能一致；\\n当l为数组时，np.array不会随输入的改变而变，但np.asarray会随输入的变化而变；\\n\\n'"
      ]
     },
     "execution_count": 45,
     "metadata": {},
     "output_type": "execute_result"
    }
   ],
   "source": [
    "l=[] #l是一个list\n",
    "img = load_img(r'E:\\Machine Learning\\photos\\generator\\Hydrangeas.jpg')  # this is a PIL image\n",
    "img1 = load_img(r'E:\\Machine Learning\\photos\\generator\\Jellyfish.jpg')  # r表示后续为字符串，出现\\*也不转义\n",
    "#img2 = load_img(r'E:\\Machine Learning\\photos\\generator\\Penguins.jpg')\n",
    "#z = img_to_array(img2)\n",
    "y = img_to_array(img1)\n",
    "x = img_to_array(img) # this is a Numpy array with shape (3, 1024, 768)\n",
    "l.append(x) #将x添加在l的末尾\n",
    "l.append(y) #将y添加在l的末尾\n",
    "#l.append(z)\n",
    "l=np.array(l) \n",
    "\n",
    "#当l为lits时，将输入转为矩阵格式;此时np.array与np.asarray功能一致；\n",
    "#当l为数组时，np.array不会随输入的改变而变，但np.asarray会随输入的变化而变；\n",
    "\n",
    "#l = l.reshape((1,) + l.shape)  # this is a Numpy array with shape (1, 3, 1024, 768)\n",
    " \n",
    "# the .flow() command below generates batches of randomly transformed images\n",
    "# and saves the results to the `preview/` directory"
   ]
  },
  {
   "cell_type": "code",
   "execution_count": 47,
   "metadata": {},
   "outputs": [
    {
     "data": {
      "text/plain": [
       "'\\nbatch_size如果小于l的第一维m，则生成的多维矩阵的第一组是batch_size，输出是从输入中随机选取batch_size个数据；\\nbatch_size如果大于l的第一维m，则生成的多维矩阵的第一组是m，输出是m个数据,不过顺序随机，输出的对象（X和Y）是一一对应的；\\n'"
      ]
     },
     "execution_count": 47,
     "metadata": {},
     "output_type": "execute_result"
    }
   ],
   "source": [
    "#flow()，接收numpy数组和标签为参数,生成经过数据提升或标准化后的batch数据,并在一个无限循环中不断的返回batch数据\n",
    "i = 0\n",
    "for batch in datagen.flow(l, batch_size=2,\n",
    "                          save_to_dir=r'E:\\Machine Learning\\photos\\generator\\Gentest', save_format='jpg'):\n",
    "    i += 1\n",
    "    if i > 2: #if batches>=len(x_train)/batch_size\n",
    "        break  # otherwise the generator would loop indefinitely\n",
    "#batch_size如果小于l的第一维m，则生成的多维矩阵的第一维是batch_size，输出是从输入中随机选取batch_size个数据；\n",
    "#batch_size如果大于l的第一维m，则生成的多维矩阵的第一维是m，输出是m个数据,不过顺序随机，输出的对象（X和Y）是一一对应的；"
   ]
  },
  {
   "cell_type": "code",
   "execution_count": 48,
   "metadata": {},
   "outputs": [
    {
     "data": {
      "text/plain": [
       "(2, 768, 1024, 3)"
      ]
     },
     "execution_count": 48,
     "metadata": {},
     "output_type": "execute_result"
    }
   ],
   "source": [
    "l.shape"
   ]
  },
  {
   "cell_type": "code",
   "execution_count": 4,
   "metadata": {},
   "outputs": [
    {
     "name": "stdout",
     "output_type": "stream",
     "text": [
      "Found 24 images belonging to 3 classes.\n"
     ]
    }
   ],
   "source": [
    "#flow_from_directory()，以文件夹路径为参数,生成经过数据提升/归一化后的数据,在一个无限循环中无限产生batch数据\n",
    "gener=datagen.flow_from_directory(r'E:\\Machine Learning\\photos\\images',#类别子文件夹的上一级文件夹\n",
    "                                    batch_size=33,\n",
    "                                    shuffle=False,\n",
    "                                    save_to_dir=r'E:\\Machine Learning\\photos\\train_result',\n",
    "                                    save_prefix='trans_',\n",
    "                                    save_format='jpg')\n",
    "for i in range(1):\n",
    "    gener.next()\n",
    "#输出个数与range和batch_size有关\n",
    "#batch_size未超过样本数,则输出batch_size个数据；超过样本数m，则输出m个数据"
   ]
  },
  {
   "cell_type": "code",
   "execution_count": 5,
   "metadata": {},
   "outputs": [],
   "source": [
    "labels=(gener.class_indices)"
   ]
  },
  {
   "cell_type": "code",
   "execution_count": 6,
   "metadata": {},
   "outputs": [
    {
     "data": {
      "text/plain": [
       "{'Hydrangeas': 0, 'Jellyfish': 1, 'Koala': 2}"
      ]
     },
     "execution_count": 6,
     "metadata": {},
     "output_type": "execute_result"
    }
   ],
   "source": [
    "labels"
   ]
  },
  {
   "cell_type": "code",
   "execution_count": null,
   "metadata": {},
   "outputs": [],
   "source": []
  }
 ],
 "metadata": {
  "kernelspec": {
   "display_name": "Python 3",
   "language": "python",
   "name": "python3"
  },
  "language_info": {
   "codemirror_mode": {
    "name": "ipython",
    "version": 3
   },
   "file_extension": ".py",
   "mimetype": "text/x-python",
   "name": "python",
   "nbconvert_exporter": "python",
   "pygments_lexer": "ipython3",
   "version": "3.7.1"
  }
 },
 "nbformat": 4,
 "nbformat_minor": 2
}
