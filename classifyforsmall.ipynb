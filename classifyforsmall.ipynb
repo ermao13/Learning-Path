{
 "cells": [
  {
   "cell_type": "code",
   "execution_count": null,
   "metadata": {},
   "outputs": [],
   "source": [
    "from keras.preprocessing.image import ImageDataGenerator\n",
    "from keras.models import Sequential\n",
    "from keras.layers import Conv2D, MaxPooling2D\n",
    "from keras.layers import Activation, Dropout, Flatten, Dense\n",
    "from keras import backend as K"
   ]
  },
  {
   "cell_type": "code",
   "execution_count": 29,
   "metadata": {},
   "outputs": [],
   "source": [
    "# dimensions of our images.\n",
    "img_width, img_height = 150, 150\n",
    "\n",
    "train_data_dir = r'E:\\Machine Learning\\cell_images\\cell_train'\n",
    "validation_data_dir = 'E:\\Machine Learning\\cell_images\\cell_validation'\n",
    "nb_train_sample = 4500\n",
    "nb_validation_sample = 500\n",
    "epochs = 20\n",
    "batch_size = 100"
   ]
  },
  {
   "cell_type": "code",
   "execution_count": 37,
   "metadata": {},
   "outputs": [],
   "source": [
    "if K.image_data_format() == 'channels_first':\n",
    "    input_shape = (3, img_width, img_height)\n",
    "else:\n",
    "    input_shape = (img_width, img_height, 3)\n",
    "\n",
    "model = Sequential()\n",
    "model.add(Conv2D(32, (3, 3), input_shape=input_shape))\n",
    "model.add(Activation('relu'))\n",
    "model.add(MaxPooling2D(pool_size=(2, 2)))\n",
    "\n",
    "model.add(Conv2D(32, (3, 3)))\n",
    "model.add(Activation('relu'))\n",
    "model.add(MaxPooling2D(pool_size=(2, 2)))\n",
    "\n",
    "model.add(Conv2D(64, (3, 3)))\n",
    "model.add(Activation('relu'))\n",
    "model.add(MaxPooling2D(pool_size=(2, 2)))\n",
    "\n",
    "model.add(Flatten())\n",
    "model.add(Dense(64))\n",
    "model.add(Activation('relu'))\n",
    "model.add(Dropout(0.5))\n",
    "model.add(Dense(1)) #2分类,输出dense为1\n",
    "model.add(Activation('sigmoid')) #采用sigmoid\n",
    "\n",
    "model.compile(loss='binary_crossentropy', #2分类\n",
    "              optimizer='rmsprop', #rmsprop,adam\n",
    "              metrics=['accuracy'])"
   ]
  },
  {
   "cell_type": "code",
   "execution_count": 24,
   "metadata": {},
   "outputs": [
    {
     "data": {
      "text/plain": [
       "(150, 150, 3)"
      ]
     },
     "execution_count": 24,
     "metadata": {},
     "output_type": "execute_result"
    }
   ],
   "source": [
    "input_shape"
   ]
  },
  {
   "cell_type": "code",
   "execution_count": 26,
   "metadata": {},
   "outputs": [],
   "source": [
    "train_datagen = ImageDataGenerator(\n",
    "    rescale=1. / 255,\n",
    "    shear_range=0.2,\n",
    "    zoom_range=0.2,\n",
    "    horizontal_flip=True)"
   ]
  },
  {
   "cell_type": "code",
   "execution_count": 27,
   "metadata": {},
   "outputs": [
    {
     "name": "stdout",
     "output_type": "stream",
     "text": [
      "Found 4500 images belonging to 2 classes.\n",
      "Found 500 images belonging to 2 classes.\n"
     ]
    }
   ],
   "source": [
    "test_datagen = ImageDataGenerator(rescale=1. / 255)\n",
    "\n",
    "train_generator = train_datagen.flow_from_directory(\n",
    "    train_data_dir,\n",
    "    target_size=(img_width, img_height),\n",
    "    batch_size=batch_size,\n",
    "    class_mode='binary') #2分类\n",
    "\n",
    "validation_generator = test_datagen.flow_from_directory(\n",
    "    validation_data_dir,\n",
    "    target_size=(img_width, img_height),\n",
    "    batch_size=batch_size,\n",
    "    class_mode='binary') #2分类\n"
   ]
  },
  {
   "cell_type": "code",
   "execution_count": 34,
   "metadata": {},
   "outputs": [
    {
     "name": "stdout",
     "output_type": "stream",
     "text": [
      "Epoch 1/20\n",
      "45/45 [==============================] - 46s 1s/step - loss: 0.6968 - acc: 0.5351 - val_loss: 0.6731 - val_acc: 0.5760\n",
      "Epoch 2/20\n",
      "45/45 [==============================] - 45s 994ms/step - loss: 0.6539 - acc: 0.6284 - val_loss: 0.7404 - val_acc: 0.5200\n",
      "Epoch 3/20\n",
      "45/45 [==============================] - 45s 995ms/step - loss: 0.6192 - acc: 0.6720 - val_loss: 0.6390 - val_acc: 0.6480\n",
      "Epoch 4/20\n",
      "45/45 [==============================] - 45s 997ms/step - loss: 0.5832 - acc: 0.7093 - val_loss: 0.5226 - val_acc: 0.7760\n",
      "Epoch 5/20\n",
      "45/45 [==============================] - 45s 1s/step - loss: 0.4447 - acc: 0.8182 - val_loss: 0.3774 - val_acc: 0.8320\n",
      "Epoch 6/20\n",
      "45/45 [==============================] - 45s 995ms/step - loss: 0.4091 - acc: 0.8342 - val_loss: 0.4372 - val_acc: 0.8200\n",
      "Epoch 7/20\n",
      "45/45 [==============================] - 45s 1s/step - loss: 0.3379 - acc: 0.8844 - val_loss: 0.4536 - val_acc: 0.8320\n",
      "Epoch 8/20\n",
      "45/45 [==============================] - 45s 997ms/step - loss: 0.3601 - acc: 0.8707 - val_loss: 0.4250 - val_acc: 0.8280\n",
      "Epoch 9/20\n",
      "45/45 [==============================] - 45s 992ms/step - loss: 0.3257 - acc: 0.8818 - val_loss: 0.2821 - val_acc: 0.9000\n",
      "Epoch 10/20\n",
      "45/45 [==============================] - 45s 1000ms/step - loss: 0.3483 - acc: 0.8893 - val_loss: 0.3932 - val_acc: 0.8560\n",
      "Epoch 11/20\n",
      "45/45 [==============================] - 45s 999ms/step - loss: 0.3053 - acc: 0.9071 - val_loss: 0.4689 - val_acc: 0.8560\n",
      "Epoch 12/20\n",
      "45/45 [==============================] - 45s 992ms/step - loss: 0.3033 - acc: 0.8898 - val_loss: 0.3668 - val_acc: 0.8440\n",
      "Epoch 13/20\n",
      "45/45 [==============================] - 45s 994ms/step - loss: 0.3733 - acc: 0.8680 - val_loss: 0.3097 - val_acc: 0.8800\n",
      "Epoch 14/20\n",
      "45/45 [==============================] - 45s 1000ms/step - loss: 0.3063 - acc: 0.8849 - val_loss: 0.3730 - val_acc: 0.8880\n",
      "Epoch 15/20\n",
      "45/45 [==============================] - 45s 1s/step - loss: 0.3292 - acc: 0.8858 - val_loss: 0.4013 - val_acc: 0.8600\n",
      "Epoch 16/20\n",
      "45/45 [==============================] - 45s 1s/step - loss: 0.2915 - acc: 0.9053 - val_loss: 0.3635 - val_acc: 0.8880\n",
      "Epoch 17/20\n",
      "45/45 [==============================] - 45s 997ms/step - loss: 0.2855 - acc: 0.9058 - val_loss: 0.4197 - val_acc: 0.8360\n",
      "Epoch 18/20\n",
      "45/45 [==============================] - 45s 994ms/step - loss: 0.3173 - acc: 0.8929 - val_loss: 0.3276 - val_acc: 0.8640\n",
      "Epoch 19/20\n",
      "45/45 [==============================] - 45s 995ms/step - loss: 0.2893 - acc: 0.9031 - val_loss: 0.3709 - val_acc: 0.8280\n",
      "Epoch 20/20\n",
      "45/45 [==============================] - 45s 1s/step - loss: 0.3170 - acc: 0.8987 - val_loss: 0.5389 - val_acc: 0.8120\n"
     ]
    },
    {
     "data": {
      "text/plain": [
       "<keras.callbacks.History at 0x3fa19860>"
      ]
     },
     "execution_count": 34,
     "metadata": {},
     "output_type": "execute_result"
    }
   ],
   "source": [
    "model.fit_generator(\n",
    "    train_generator,\n",
    "    steps_per_epoch=nb_train_sample // batch_size,\n",
    "    epochs=epochs,\n",
    "    validation_data=validation_generator,\n",
    "    validation_steps=nb_validation_sample // batch_size)"
   ]
  },
  {
   "cell_type": "code",
   "execution_count": 36,
   "metadata": {},
   "outputs": [
    {
     "ename": "NameError",
     "evalue": "name 'x' is not defined",
     "output_type": "error",
     "traceback": [
      "\u001b[1;31m---------------------------------------------------------------------------\u001b[0m",
      "\u001b[1;31mNameError\u001b[0m                                 Traceback (most recent call last)",
      "\u001b[1;32m<ipython-input-36-79ce66ae8fc2>\u001b[0m in \u001b[0;36m<module>\u001b[1;34m\u001b[0m\n\u001b[0;32m      1\u001b[0m \u001b[1;32mimport\u001b[0m \u001b[0mmatplotlib\u001b[0m\u001b[1;33m.\u001b[0m\u001b[0mpyplot\u001b[0m \u001b[1;32mas\u001b[0m \u001b[0mplt\u001b[0m\u001b[1;33m\u001b[0m\u001b[1;33m\u001b[0m\u001b[0m\n\u001b[0;32m      2\u001b[0m \u001b[1;33m\u001b[0m\u001b[0m\n\u001b[1;32m----> 3\u001b[1;33m \u001b[0mhistory\u001b[0m \u001b[1;33m=\u001b[0m \u001b[0mmodel\u001b[0m\u001b[1;33m.\u001b[0m\u001b[0mfit\u001b[0m\u001b[1;33m(\u001b[0m\u001b[0mx\u001b[0m\u001b[1;33m,\u001b[0m \u001b[0my\u001b[0m\u001b[1;33m,\u001b[0m \u001b[0mvalidation_split\u001b[0m\u001b[1;33m=\u001b[0m\u001b[1;36m0.25\u001b[0m\u001b[1;33m,\u001b[0m \u001b[0mepochs\u001b[0m\u001b[1;33m=\u001b[0m\u001b[1;36m50\u001b[0m\u001b[1;33m,\u001b[0m \u001b[0mbatch_size\u001b[0m\u001b[1;33m=\u001b[0m\u001b[1;36m16\u001b[0m\u001b[1;33m,\u001b[0m \u001b[0mverbose\u001b[0m\u001b[1;33m=\u001b[0m\u001b[1;36m1\u001b[0m\u001b[1;33m)\u001b[0m\u001b[1;33m\u001b[0m\u001b[1;33m\u001b[0m\u001b[0m\n\u001b[0m\u001b[0;32m      4\u001b[0m \u001b[1;33m\u001b[0m\u001b[0m\n\u001b[0;32m      5\u001b[0m \u001b[1;31m# 绘制训练 & 验证的准确率值\u001b[0m\u001b[1;33m\u001b[0m\u001b[1;33m\u001b[0m\u001b[1;33m\u001b[0m\u001b[0m\n",
      "\u001b[1;31mNameError\u001b[0m: name 'x' is not defined"
     ]
    }
   ],
   "source": [
    "import matplotlib.pyplot as plt\n",
    "\n",
    "history = model.fit(x, y, validation_split=0.25, epochs=50, batch_size=16, verbose=1)\n",
    "\n",
    "# 绘制训练 & 验证的准确率值\n",
    "plt.plot(history.history['acc'])\n",
    "plt.plot(history.history['val_acc'])\n",
    "plt.title('Model accuracy')\n",
    "plt.ylabel('Accuracy')\n",
    "plt.xlabel('Epoch')\n",
    "plt.legend(['Train', 'Test'], loc='upper left')\n",
    "plt.show()\n",
    "\n",
    "# 绘制训练 & 验证的损失值\n",
    "plt.plot(history.history['loss'])\n",
    "plt.plot(history.history['val_loss'])\n",
    "plt.title('Model loss')\n",
    "plt.ylabel('Loss')\n",
    "plt.xlabel('Epoch')\n",
    "plt.legend(['Train', 'Test'], loc='upper left')\n",
    "plt.show()"
   ]
  },
  {
   "cell_type": "code",
   "execution_count": null,
   "metadata": {},
   "outputs": [],
   "source": []
  }
 ],
 "metadata": {
  "kernelspec": {
   "display_name": "Python 3",
   "language": "python",
   "name": "python3"
  },
  "language_info": {
   "codemirror_mode": {
    "name": "ipython",
    "version": 3
   },
   "file_extension": ".py",
   "mimetype": "text/x-python",
   "name": "python",
   "nbconvert_exporter": "python",
   "pygments_lexer": "ipython3",
   "version": "3.7.1"
  }
 },
 "nbformat": 4,
 "nbformat_minor": 2
}
